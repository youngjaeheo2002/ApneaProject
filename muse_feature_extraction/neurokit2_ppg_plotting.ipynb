{
 "cells": [
  {
   "cell_type": "code",
   "execution_count": 5,
   "metadata": {},
   "outputs": [],
   "source": [
    "import numpy as np \n",
    "import pandas as pd\n",
    "import neurokit2 as nk\n",
    "import matplotlib as plt \n",
    "import os\n",
    "import random\n",
    "from typing import Dict,List\n",
    "import pickle \n",
    "PATIENT_SAMPLE_SIZE = 1\n",
    "SAMPLES_FOLDER_PATH = './samples'\n",
    "PatientDictionaryType = Dict[str, List[pd.DataFrame]]\n",
    "MUSE_SAMPLING_RATE = 64"
   ]
  },
  {
   "cell_type": "markdown",
   "metadata": {},
   "source": [
    "THE CODE BELOW EXTRACTS THE SMAPLES STORED IN LOCAL STORAGE"
   ]
  },
  {
   "cell_type": "code",
   "execution_count": 19,
   "metadata": {},
   "outputs": [],
   "source": [
    "\n",
    "\n",
    "#helper function for extract_Apnea_and_NonApnea_Ppg_dfs\n",
    "def load_data_from_pickle(file_path):\n",
    "    with open(file_path, 'rb') as file:\n",
    "        data = pickle.load(file)\n",
    "    return data\n",
    "\n",
    "#this function takes the path of hte directory and return the apnea and non-apnea ppg samples as a dictionary of 2 dataframes\n",
    "def extract_Apnea_and_NonApnea_Ppg_dfs(path:str)-> PatientDictionaryType:\n",
    "    apnea_File_Path = f\"{path}/apnea_ppg.pkl\"\n",
    "    nonEvent_File_path = f\"{path}/nonEvent_ppg.pkl\"\n",
    "\n",
    "    apnea_Df_List= load_data_from_pickle(apnea_File_Path)\n",
    "    nonEvent_Df_List = load_data_from_pickle(nonEvent_File_path)\n",
    "\n",
    "    returnVal = {\n",
    "        'apnea_Ppgs':apnea_Df_List,\n",
    "        'nonEvent_Ppgs':nonEvent_Df_List\n",
    "    }\n",
    "\n",
    "    return returnVal\n",
    "\n",
    "def ppg_process_and_Analyze(patient_Dictionary:PatientDictionaryType)->Dict[str,pd.DataFrame]:\n",
    "    apnea_Ppgs = patient_Dictionary['apnea_Ppgs']\n",
    "    nonEvent_Ppgs =patient_Dictionary['nonEvent_Ppgs']\n",
    "    apnea_Analyze_dfs = []\n",
    "    nonEvent_Analyze_dfs = []\n",
    "    #iterate through apneaPpgs\n",
    "    for ppg in apnea_Ppgs:\n",
    "        print('hello')\n",
    "        df,info = nk.ppg_process(ppg_signal = ppg['ch2'].values,timetamps =  ppg['ts'].values,sampling_rate = MUSE_SAMPLING_RATE)\n",
    "        epochs = nk.epochs_create(df,sampling_rate = 64)\n",
    "        nk.ppg_eventrelated(epochs)\n",
    "        #analyze_df = nk.ppg_analyze(data = df,sampling_rate = MUSE_SAMPLING_RATE)\n",
    "        apnea_Analyze_dfs.append(analyze_df)\n",
    "\n",
    "    for ppg in nonEvent_Ppgs:\n",
    "        print('hello')\n",
    "        df, info = nk.ppg_process(ppg_signal = ppg['ch2'].values,timestamps = ppg['ts'].values, sampling_rate = MUSE_SAMPLING_RATE)\n",
    "        epochs = nk.epochs_create(df,sampling_rate = 64)\n",
    "        nk.ppg_eventrelated(epochs)\n",
    "        #analyze_df = nk.ppg_analyze(data = df, sampling_rate = MUSE_SAMPLING_RATE)\n",
    "        nonEvent_Analyze_dfs.append(analyze_df)\n",
    "\n",
    "    apnea_Analyze_df = pd.concat(apnea_Analyze_dfs)\n",
    "    nonEvent_Analyze_df = pd.concat(nonEvent_Analyze_dfs)\n",
    "\n",
    "    returnVal = {\n",
    "        'apnea':apnea_Analyze_df,\n",
    "        'nonEvent':nonEvent_Analyze_df\n",
    "    }\n",
    "\n",
    "    return returnVal\n",
    "\n",
    "    def plot_Ppg_Features(analysis_Dict):\n",
    "        print('hello')\n"
   ]
  },
  {
   "cell_type": "code",
   "execution_count": 20,
   "metadata": {},
   "outputs": [
    {
     "name": "stdout",
     "output_type": "stream",
     "text": [
      "hello\n"
     ]
    },
    {
     "ename": "UFuncTypeError",
     "evalue": "ufunc 'maximum' did not contain a loop with signature matching types (dtype('<U11'), dtype('<U11')) -> None",
     "output_type": "error",
     "traceback": [
      "\u001b[0;31m---------------------------------------------------------------------------\u001b[0m",
      "\u001b[0;31mUFuncTypeError\u001b[0m                            Traceback (most recent call last)",
      "Cell \u001b[0;32mIn[20], line 10\u001b[0m\n\u001b[1;32m      7\u001b[0m \u001b[38;5;28;01mfor\u001b[39;00m patient \u001b[38;5;129;01min\u001b[39;00m random_Patient_Samples:\n\u001b[1;32m      8\u001b[0m     ppg_Dictionary \u001b[38;5;241m=\u001b[39m extract_Apnea_and_NonApnea_Ppg_dfs(\u001b[38;5;124mF\u001b[39m\u001b[38;5;124m\"\u001b[39m\u001b[38;5;132;01m{\u001b[39;00mpatient\u001b[38;5;132;01m}\u001b[39;00m\u001b[38;5;124m\"\u001b[39m)\n\u001b[0;32m---> 10\u001b[0m     analysis_Dict \u001b[38;5;241m=\u001b[39m \u001b[43mppg_process_and_Analyze\u001b[49m\u001b[43m(\u001b[49m\u001b[43mppg_Dictionary\u001b[49m\u001b[43m)\u001b[49m\n\u001b[1;32m     11\u001b[0m     plt\u001b[38;5;241m.\u001b[39mclf()\n\u001b[1;32m     12\u001b[0m     plot_Ppg_Features(analysis_Dict)\n",
      "Cell \u001b[0;32mIn[19], line 31\u001b[0m, in \u001b[0;36mppg_process_and_Analyze\u001b[0;34m(patient_Dictionary)\u001b[0m\n\u001b[1;32m     29\u001b[0m \u001b[38;5;28mprint\u001b[39m(\u001b[38;5;124m'\u001b[39m\u001b[38;5;124mhello\u001b[39m\u001b[38;5;124m'\u001b[39m)\n\u001b[1;32m     30\u001b[0m df,info \u001b[38;5;241m=\u001b[39m nk\u001b[38;5;241m.\u001b[39mppg_process(ppg_signal \u001b[38;5;241m=\u001b[39m ppg[\u001b[38;5;124m'\u001b[39m\u001b[38;5;124mch2\u001b[39m\u001b[38;5;124m'\u001b[39m]\u001b[38;5;241m.\u001b[39mvalues,timetamps \u001b[38;5;241m=\u001b[39m  ppg[\u001b[38;5;124m'\u001b[39m\u001b[38;5;124mts\u001b[39m\u001b[38;5;124m'\u001b[39m]\u001b[38;5;241m.\u001b[39mvalues,sampling_rate \u001b[38;5;241m=\u001b[39m MUSE_SAMPLING_RATE)\n\u001b[0;32m---> 31\u001b[0m epochs \u001b[38;5;241m=\u001b[39m \u001b[43mnk\u001b[49m\u001b[38;5;241;43m.\u001b[39;49m\u001b[43mepochs_create\u001b[49m\u001b[43m(\u001b[49m\u001b[43mdf\u001b[49m\u001b[43m,\u001b[49m\u001b[43msampling_rate\u001b[49m\u001b[43m \u001b[49m\u001b[38;5;241;43m=\u001b[39;49m\u001b[43m \u001b[49m\u001b[38;5;241;43m64\u001b[39;49m\u001b[43m)\u001b[49m\n\u001b[1;32m     32\u001b[0m nk\u001b[38;5;241m.\u001b[39mppg_eventrelated(epochs)\n\u001b[1;32m     33\u001b[0m \u001b[38;5;66;03m#analyze_df = nk.ppg_analyze(data = df,sampling_rate = MUSE_SAMPLING_RATE)\u001b[39;00m\n",
      "File \u001b[0;32m~/ENV/lib/python3.10/site-packages/neurokit2/epochs/epochs_create.py:127\u001b[0m, in \u001b[0;36mepochs_create\u001b[0;34m(data, events, sampling_rate, epochs_start, epochs_end, event_labels, event_conditions, baseline_correction)\u001b[0m\n\u001b[1;32m    125\u001b[0m \u001b[38;5;66;03m# Sanitize events input\u001b[39;00m\n\u001b[1;32m    126\u001b[0m \u001b[38;5;28;01mif\u001b[39;00m events \u001b[38;5;129;01mis\u001b[39;00m \u001b[38;5;28;01mNone\u001b[39;00m:\n\u001b[0;32m--> 127\u001b[0m     max_duration \u001b[38;5;241m=\u001b[39m (\u001b[43mnp\u001b[49m\u001b[38;5;241;43m.\u001b[39;49m\u001b[43mmax\u001b[49m\u001b[43m(\u001b[49m\u001b[43mepochs_end\u001b[49m\u001b[43m)\u001b[49m \u001b[38;5;241m-\u001b[39m np\u001b[38;5;241m.\u001b[39mmin(epochs_start)) \u001b[38;5;241m*\u001b[39m sampling_rate\n\u001b[1;32m    128\u001b[0m     events \u001b[38;5;241m=\u001b[39m np\u001b[38;5;241m.\u001b[39marange(\u001b[38;5;241m0\u001b[39m, \u001b[38;5;28mlen\u001b[39m(data) \u001b[38;5;241m-\u001b[39m max_duration, max_duration)\n\u001b[1;32m    129\u001b[0m \u001b[38;5;28;01mif\u001b[39;00m \u001b[38;5;28misinstance\u001b[39m(events, \u001b[38;5;28mint\u001b[39m):\n",
      "File \u001b[0;32m~/ENV/lib/python3.10/site-packages/numpy/core/fromnumeric.py:2810\u001b[0m, in \u001b[0;36mmax\u001b[0;34m(a, axis, out, keepdims, initial, where)\u001b[0m\n\u001b[1;32m   2692\u001b[0m \u001b[38;5;129m@array_function_dispatch\u001b[39m(_max_dispatcher)\n\u001b[1;32m   2693\u001b[0m \u001b[38;5;129m@set_module\u001b[39m(\u001b[38;5;124m'\u001b[39m\u001b[38;5;124mnumpy\u001b[39m\u001b[38;5;124m'\u001b[39m)\n\u001b[1;32m   2694\u001b[0m \u001b[38;5;28;01mdef\u001b[39;00m \u001b[38;5;21mmax\u001b[39m(a, axis\u001b[38;5;241m=\u001b[39m\u001b[38;5;28;01mNone\u001b[39;00m, out\u001b[38;5;241m=\u001b[39m\u001b[38;5;28;01mNone\u001b[39;00m, keepdims\u001b[38;5;241m=\u001b[39mnp\u001b[38;5;241m.\u001b[39m_NoValue, initial\u001b[38;5;241m=\u001b[39mnp\u001b[38;5;241m.\u001b[39m_NoValue,\n\u001b[1;32m   2695\u001b[0m          where\u001b[38;5;241m=\u001b[39mnp\u001b[38;5;241m.\u001b[39m_NoValue):\n\u001b[1;32m   2696\u001b[0m \u001b[38;5;250m    \u001b[39m\u001b[38;5;124;03m\"\"\"\u001b[39;00m\n\u001b[1;32m   2697\u001b[0m \u001b[38;5;124;03m    Return the maximum of an array or maximum along an axis.\u001b[39;00m\n\u001b[1;32m   2698\u001b[0m \n\u001b[0;32m   (...)\u001b[0m\n\u001b[1;32m   2808\u001b[0m \u001b[38;5;124;03m    5\u001b[39;00m\n\u001b[1;32m   2809\u001b[0m \u001b[38;5;124;03m    \"\"\"\u001b[39;00m\n\u001b[0;32m-> 2810\u001b[0m     \u001b[38;5;28;01mreturn\u001b[39;00m \u001b[43m_wrapreduction\u001b[49m\u001b[43m(\u001b[49m\u001b[43ma\u001b[49m\u001b[43m,\u001b[49m\u001b[43m \u001b[49m\u001b[43mnp\u001b[49m\u001b[38;5;241;43m.\u001b[39;49m\u001b[43mmaximum\u001b[49m\u001b[43m,\u001b[49m\u001b[43m \u001b[49m\u001b[38;5;124;43m'\u001b[39;49m\u001b[38;5;124;43mmax\u001b[39;49m\u001b[38;5;124;43m'\u001b[39;49m\u001b[43m,\u001b[49m\u001b[43m \u001b[49m\u001b[43maxis\u001b[49m\u001b[43m,\u001b[49m\u001b[43m \u001b[49m\u001b[38;5;28;43;01mNone\u001b[39;49;00m\u001b[43m,\u001b[49m\u001b[43m \u001b[49m\u001b[43mout\u001b[49m\u001b[43m,\u001b[49m\n\u001b[1;32m   2811\u001b[0m \u001b[43m                          \u001b[49m\u001b[43mkeepdims\u001b[49m\u001b[38;5;241;43m=\u001b[39;49m\u001b[43mkeepdims\u001b[49m\u001b[43m,\u001b[49m\u001b[43m \u001b[49m\u001b[43minitial\u001b[49m\u001b[38;5;241;43m=\u001b[39;49m\u001b[43minitial\u001b[49m\u001b[43m,\u001b[49m\u001b[43m \u001b[49m\u001b[43mwhere\u001b[49m\u001b[38;5;241;43m=\u001b[39;49m\u001b[43mwhere\u001b[49m\u001b[43m)\u001b[49m\n",
      "File \u001b[0;32m~/ENV/lib/python3.10/site-packages/numpy/core/fromnumeric.py:88\u001b[0m, in \u001b[0;36m_wrapreduction\u001b[0;34m(obj, ufunc, method, axis, dtype, out, **kwargs)\u001b[0m\n\u001b[1;32m     85\u001b[0m         \u001b[38;5;28;01melse\u001b[39;00m:\n\u001b[1;32m     86\u001b[0m             \u001b[38;5;28;01mreturn\u001b[39;00m reduction(axis\u001b[38;5;241m=\u001b[39maxis, out\u001b[38;5;241m=\u001b[39mout, \u001b[38;5;241m*\u001b[39m\u001b[38;5;241m*\u001b[39mpasskwargs)\n\u001b[0;32m---> 88\u001b[0m \u001b[38;5;28;01mreturn\u001b[39;00m \u001b[43mufunc\u001b[49m\u001b[38;5;241;43m.\u001b[39;49m\u001b[43mreduce\u001b[49m\u001b[43m(\u001b[49m\u001b[43mobj\u001b[49m\u001b[43m,\u001b[49m\u001b[43m \u001b[49m\u001b[43maxis\u001b[49m\u001b[43m,\u001b[49m\u001b[43m \u001b[49m\u001b[43mdtype\u001b[49m\u001b[43m,\u001b[49m\u001b[43m \u001b[49m\u001b[43mout\u001b[49m\u001b[43m,\u001b[49m\u001b[43m \u001b[49m\u001b[38;5;241;43m*\u001b[39;49m\u001b[38;5;241;43m*\u001b[39;49m\u001b[43mpasskwargs\u001b[49m\u001b[43m)\u001b[49m\n",
      "\u001b[0;31mUFuncTypeError\u001b[0m: ufunc 'maximum' did not contain a loop with signature matching types (dtype('<U11'), dtype('<U11')) -> None"
     ]
    }
   ],
   "source": [
    "with os.scandir(SAMPLES_FOLDER_PATH) as entries:\n",
    "    directories = [entry.path for entry in entries if entry.is_dir()]\n",
    "    num_directories = min(PATIENT_SAMPLE_SIZE, len(directories))\n",
    "    \n",
    "    random_Patient_Samples = random.sample(directories,num_directories)\n",
    "\n",
    "    for patient in random_Patient_Samples:\n",
    "        ppg_Dictionary = extract_Apnea_and_NonApnea_Ppg_dfs(F\"{patient}\")\n",
    "        \n",
    "        analysis_Dict = ppg_process_and_Analyze(ppg_Dictionary)\n",
    "        plt.clf()\n",
    "        plot_Ppg_Features(analysis_Dict)\n",
    "\n",
    "        plt.clf()\n",
    "\n",
    "        #\n",
    "\n",
    "\n",
    "\n",
    "\n",
    "        \n"
   ]
  },
  {
   "cell_type": "code",
   "execution_count": null,
   "metadata": {},
   "outputs": [],
   "source": [
    "(analysis_Dict)\n",
    "\n",
    "        plt.clf()\n",
    "\n",
    "        #\n",
    "\n",
    "\n",
    "\n",
    "\n",
    "        \n"
   ]
  },
  {
   "cell_type": "code",
   "execution_count": null,
   "metadata": {},
   "outputs": [],
   "source": []
  }
 ],
 "metadata": {
  "kernelspec": {
   "display_name": "ENV",
   "language": "python",
   "name": "python3"
  },
  "language_info": {
   "codemirror_mode": {
    "name": "ipython",
    "version": 3
   },
   "file_extension": ".py",
   "mimetype": "text/x-python",
   "name": "python",
   "nbconvert_exporter": "python",
   "pygments_lexer": "ipython3",
   "version": "3.10.2"
  }
 },
 "nbformat": 4,
 "nbformat_minor": 2
}
