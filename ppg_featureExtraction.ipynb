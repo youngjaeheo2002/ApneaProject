{
 "cells": [
  {
   "cell_type": "code",
   "execution_count": 2,
   "metadata": {},
   "outputs": [],
   "source": [
    "import numpy as np \n",
    "import pandas as pd\n",
    "import matplotlib.pyplot as plt \n",
    "from mpl_toolkits.mplot3d import Axes3D\n",
    "import neurokit2 as nk\n",
    "path = \"/scratch/alim/overnight_validation/MUSE-PSG/\"\n",
    "import os\n",
    "#get mean, std, variance\n",
    "#central apnea\n",
    "\n"
   ]
  },
  {
   "cell_type": "code",
   "execution_count": 5,
   "metadata": {},
   "outputs": [
    {
     "name": "stdout",
     "output_type": "stream",
     "text": [
      "Finding all MUSE-PSG files\n",
      "Findind all file names completed\n",
      "Organizing into dictionary\n",
      "Finished Organizing into dicitonary\n",
      "Short Preview of the Dictionary:\n",
      "2020-09-04T223300-0400_5007-7WNR-1FDA: ['2020-09-04T22\\uf02233\\uf02200-04\\uf02200_5007-7WNR-1FDA_ppg.csv']\n",
      "2020-09-09T204008-0400_5007-ELYP-1F41: ['2020-09-09T20\\uf02240\\uf02208-04\\uf02200_5007-ELYP-1F41_events.csv', '2020-09-09T20\\uf02240\\uf02208-04\\uf02200_5007-ELYP-1F41_ppg.csv']\n",
      "2020-09-11T211719-0400_5007-ELYP-1F41: ['2020-09-11T21\\uf02217\\uf02219-04\\uf02200_5007-ELYP-1F41_events.csv', '2020-09-11T21\\uf02217\\uf02219-04\\uf02200_5007-ELYP-1F41_ppg.csv']\n",
      "Processing patient 2020-09-04T223300-0400_5007-7WNR-1FDA\n",
      "Processing patient 2020-09-09T204008-0400_5007-ELYP-1F41\n"
     ]
    },
    {
     "ename": "IndexError",
     "evalue": "list index out of range",
     "output_type": "error",
     "traceback": [
      "\u001b[0;31m---------------------------------------------------------------------------\u001b[0m",
      "\u001b[0;31mIndexError\u001b[0m                                Traceback (most recent call last)",
      "Cell \u001b[0;32mIn[5], line 60\u001b[0m\n\u001b[1;32m     58\u001b[0m     \u001b[38;5;28;01mif\u001b[39;00m \u001b[38;5;28mlen\u001b[39m(files) \u001b[38;5;241m!=\u001b[39m \u001b[38;5;241m2\u001b[39m:\n\u001b[1;32m     59\u001b[0m         \u001b[38;5;28;01mcontinue\u001b[39;00m\n\u001b[0;32m---> 60\u001b[0m     patient_data_dictionary[patient] \u001b[38;5;241m=\u001b[39m [read_csv_to_dataframe(path \u001b[38;5;241m+\u001b[39m files[\u001b[38;5;241m0\u001b[39m]),read_csv_to_dataframe(path \u001b[38;5;241m+\u001b[39m files[\u001b[38;5;241m1\u001b[39m]),read_csv_to_dataframe(path \u001b[38;5;241m+\u001b[39m \u001b[43mfiles\u001b[49m\u001b[43m[\u001b[49m\u001b[38;5;241;43m2\u001b[39;49m\u001b[43m]\u001b[49m)]\n\u001b[1;32m     62\u001b[0m \u001b[38;5;66;03m#Change the time from unix format to regular date\u001b[39;00m\n\u001b[1;32m     64\u001b[0m \u001b[38;5;28;01mfor\u001b[39;00m patient \u001b[38;5;129;01min\u001b[39;00m patient_data_dictionary:\n",
      "\u001b[0;31mIndexError\u001b[0m: list index out of range"
     ]
    }
   ],
   "source": [
    "def read_files_in_directory(directory_path):\n",
    "    try:\n",
    "        print(\"Finding all MUSE-PSG files\")\n",
    "        # Get a list of all files in the directory\n",
    "        file_list = sorted([entry.name for entry in os.scandir(directory_path) if\n",
    "                    entry.is_file() and any(keyword in entry.name for keyword in ['ppg', 'events'])])[30:60]\n",
    "\n",
    "\n",
    "                     \n",
    "        # Read the contents of each file\n",
    "        print(\"Findind all file names completed\")\n",
    "\n",
    "        return file_list\n",
    "    except Exception as e:\n",
    "        print(f\"Error reading files: {e}\")\n",
    "\n",
    "# Example usage:\n",
    "directory_path = \"/scratch/alim/overnight_validation/MUSE-PSG\"\n",
    "file_name_list = read_files_in_directory(directory_path)\n",
    "\n",
    "patient_dictionary = {}\n",
    "\n",
    "print(\"Organizing into dictionary\")\n",
    "\n",
    "for filename in file_name_list:\n",
    "    parts = filename.rsplit('_',1)\n",
    "    patient_name = parts[0]\n",
    "    \n",
    "    if patient_name in patient_dictionary:\n",
    "        patient_dictionary[patient_name].append(filename)\n",
    "\n",
    "    else:\n",
    "        patient_dictionary[patient_name] = [filename]\n",
    "\n",
    "print(\"Finished Organizing into dicitonary\")\n",
    "\n",
    "print(\"Short Preview of the Dictionary:\")\n",
    "for key, value in list(patient_dictionary.items())[:3]:\n",
    "    print(f'{key}: {value}')\n",
    "    \n",
    "def read_csv_to_dataframe(file_path):\n",
    "    try:\n",
    "        # Read the CSV file into a Pandas DataFrame\n",
    "        dataframe = pd.read_csv(file_path)\n",
    "\n",
    "        # Return the DataFrame\n",
    "        return dataframe\n",
    "\n",
    "    except Exception as e:\n",
    "        print(f\"Error reading CSV file: {e}\")\n",
    "        return None\n",
    "    \n",
    "patient_data_dictionary = {}\n",
    "\n",
    "for patient in patient_dictionary:\n",
    "    print(\"Processing patient\", patient)\n",
    "    files = patient_dictionary[patient]\n",
    "    if len(files) != 2:\n",
    "        continue\n",
    "    patient_data_dictionary[patient] = [read_csv_to_dataframe(path + files[0]),read_csv_to_dataframe(path + files[1]),read_csv_to_dataframe(path + files[2])]\n",
    "\n",
    "#Change the time from unix format to regular date\n",
    "\n",
    "for patient in patient_data_dictionary:\n",
    "    print(\"Processing Patient\",patient)\n",
    "\n",
    "    patient_data_dictionary[patient][0]['ts'] = pd.to_datetime(patient_data_dictionary[patient][0]['ts'], unit='ms')\n",
    "    patient_data_dictionary[patient][2]['ts'] = pd.to_datetime(patient_data_dictionary[patient][2]['ts'], unit='ms')\n",
    "    patient_data_dictionary[patient][1]['start'] = pd.to_datetime(patient_data_dictionary[patient][1]['start'], unit='ms')\n",
    "    "
   ]
  },
  {
   "cell_type": "code",
   "execution_count": null,
   "metadata": {},
   "outputs": [],
   "source": []
  }
 ],
 "metadata": {
  "kernelspec": {
   "display_name": "ENV",
   "language": "python",
   "name": "python3"
  },
  "language_info": {
   "codemirror_mode": {
    "name": "ipython",
    "version": 3
   },
   "file_extension": ".py",
   "mimetype": "text/x-python",
   "name": "python",
   "nbconvert_exporter": "python",
   "pygments_lexer": "ipython3",
   "version": "3.10.2"
  }
 },
 "nbformat": 4,
 "nbformat_minor": 2
}
